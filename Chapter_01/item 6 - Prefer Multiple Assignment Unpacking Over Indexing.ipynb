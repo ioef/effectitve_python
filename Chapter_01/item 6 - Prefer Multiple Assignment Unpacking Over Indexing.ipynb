{
 "cells": [
  {
   "cell_type": "code",
   "execution_count": 12,
   "metadata": {},
   "outputs": [
    {
     "name": "stdout",
     "output_type": "stream",
     "text": [
      "chips 140\n",
      "popcorn 80\n",
      "nuts 190\n",
      "(('chips', 140), ('popcorn', 80), ('nuts', 190))\n",
      "('chips', 140)\n",
      "140\n"
     ]
    }
   ],
   "source": [
    "#convert dictionary to tuple\n",
    "\n",
    "snack_calories = {\n",
    "'chips': 140,\n",
    "'popcorn': 80,\n",
    "'nuts': 190,\n",
    "}\n",
    "\n",
    "for k,v in snack_calories.items():\n",
    "    print(k,v)\n",
    "    \n",
    "items = tuple(snack_calories.items())\n",
    "print(items)\n",
    "print(items[0])\n",
    "print(items[0][1])\n"
   ]
  },
  {
   "cell_type": "code",
   "execution_count": 13,
   "metadata": {},
   "outputs": [
    {
     "name": "stdout",
     "output_type": "stream",
     "text": [
      "Peanut butter and Jelly\n"
     ]
    }
   ],
   "source": [
    "#access tuples with numerical indexes\n",
    "item = ('Peanut butter', 'Jelly')\n",
    "first = item[0]\n",
    "second = item[1]\n",
    "print(first, 'and', second)\n"
   ]
  },
  {
   "cell_type": "code",
   "execution_count": 14,
   "metadata": {},
   "outputs": [
    {
     "name": "stdout",
     "output_type": "stream",
     "text": [
      "Peanut butter and Jelly\n"
     ]
    }
   ],
   "source": [
    "#Python syntax for unpacking\n",
    "\n",
    "item = ('Peanut butter', 'Jelly')\n",
    "first, second = item # Unpacking\n",
    "print(first, 'and', second)\n"
   ]
  },
  {
   "cell_type": "code",
   "execution_count": 31,
   "metadata": {},
   "outputs": [
    {
     "name": "stdout",
     "output_type": "stream",
     "text": [
      "Before bubbleshort: ['pretzels', 'carrots', 'arugula', 'bacon']\n",
      "After bubbleshort: ['arugula', 'bacon', 'carrots', 'pretzels']\n",
      "0.00048351287841796875\n",
      "\n",
      "\n",
      "\n",
      "Before bubbleshort2: ['pretzels', 'carrots', 'arugula', 'bacon']\n",
      "After bubbleshort2: ['arugula', 'bacon', 'carrots', 'pretzels']\n",
      "0.00016427040100097656\n"
     ]
    }
   ],
   "source": [
    "#swap two positions in a list using the unpacking feature\n",
    "import time \n",
    "\n",
    "def bubble_sort(a):\n",
    "    for _ in range(len(a)):\n",
    "        for i in range(1, len(a)):\n",
    "            if a[i] < a[i-1]:\n",
    "                temp = a[i]\n",
    "                a[i] = a[i-1]\n",
    "                a[i-1] = temp\n",
    "\n",
    "names = ['pretzels', 'carrots', 'arugula', 'bacon']\n",
    "start = time.time()\n",
    "print(\"Before bubbleshort:\", names)\n",
    "bubble_sort(names)\n",
    "print(\"After bubbleshort:\", names)\n",
    "end = time.time() - start\n",
    "print(end)\n",
    "\n",
    "print(\"\\n\\n\")\n",
    "\n",
    "def bubble_sort2(b):\n",
    "    for _ in range(len(b)):\n",
    "        for i in range(1, len(b)):\n",
    "            if b[i] < b[i-1]:\n",
    "                b[i], b[i-1] = b[i-1], b[i]\n",
    "\n",
    "names = ['pretzels', 'carrots', 'arugula', 'bacon']\n",
    "start = time.time()\n",
    "print(\"Before bubbleshort2:\", names)\n",
    "bubble_sort2(names)\n",
    "print(\"After bubbleshort2:\", names)\n",
    "end = time.time() - start\n",
    "print(end)"
   ]
  },
  {
   "cell_type": "code",
   "execution_count": 32,
   "metadata": {},
   "outputs": [
    {
     "name": "stdout",
     "output_type": "stream",
     "text": [
      "#1: bacon has 350 calories\n",
      "#2: donut has 240 calories\n",
      "#3: muffin has 190 calories\n"
     ]
    }
   ],
   "source": [
    "#iterate over a list of snacks without using unpacking:\n",
    "snacks = [('bacon', 350), ('donut', 240), ('muffin', 190)]\n",
    "\n",
    "for i in range(len(snacks)):\n",
    "    item = snacks[i]\n",
    "    name = item[0]\n",
    "    calories = item[1]\n",
    "    print(f'#{i+1}: {name} has {calories} calories')\n"
   ]
  },
  {
   "cell_type": "code",
   "execution_count": 36,
   "metadata": {},
   "outputs": [
    {
     "name": "stdout",
     "output_type": "stream",
     "text": [
      "#1: bacon has 350 calories\n",
      "#2: donut has 240 calories\n",
      "#3: muffin has 190 calories\n"
     ]
    }
   ],
   "source": [
    "#iterate over a list of snacks using unpacking along with enumarate \n",
    "snacks = [('bacon', 350), ('donut', 240), ('muffin', 190)]\n",
    "for rank, (name, calories) in enumerate(snacks, 1):\n",
    "    print(f'#{rank}: {name} has {calories} calories')"
   ]
  },
  {
   "cell_type": "code",
   "execution_count": null,
   "metadata": {},
   "outputs": [],
   "source": []
  }
 ],
 "metadata": {
  "kernelspec": {
   "display_name": "Python 3",
   "language": "python",
   "name": "python3"
  },
  "language_info": {
   "codemirror_mode": {
    "name": "ipython",
    "version": 3
   },
   "file_extension": ".py",
   "mimetype": "text/x-python",
   "name": "python",
   "nbconvert_exporter": "python",
   "pygments_lexer": "ipython3",
   "version": "3.9.0"
  }
 },
 "nbformat": 4,
 "nbformat_minor": 4
}
