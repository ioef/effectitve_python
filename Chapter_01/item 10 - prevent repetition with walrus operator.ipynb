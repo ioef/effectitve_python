{
 "cells": [
  {
   "cell_type": "code",
   "execution_count": 4,
   "metadata": {},
   "outputs": [
    {
     "name": "stdout",
     "output_type": "stream",
     "text": [
      "Making juice\n"
     ]
    }
   ],
   "source": [
    "fresh_fruit = {\n",
    "'apple': 10,\n",
    "'banana': 8,\n",
    "'lemon': 5,\n",
    "}\n",
    "\n",
    "def make_lemonade(count):\n",
    "    print(\"Making juice\")\n",
    "    pass\n",
    "\n",
    "def out_of_stock():\n",
    "    print(\"Out of stock\")\n",
    "    pass\n",
    "\n",
    "count = fresh_fruit.get('lemon', 0)\n",
    "if count:\n",
    "    make_lemonade(count)\n",
    "else:\n",
    "    out_of_stock()\n",
    "\n"
   ]
  },
  {
   "cell_type": "code",
   "execution_count": 5,
   "metadata": {},
   "outputs": [
    {
     "name": "stdout",
     "output_type": "stream",
     "text": [
      "Making juice\n"
     ]
    }
   ],
   "source": [
    "fresh_fruit = {\n",
    "'apple': 10,\n",
    "'banana': 8,\n",
    "'lemon': 5,\n",
    "}\n",
    "\n",
    "def make_lemonade(count):\n",
    "    print(\"Making juice\")\n",
    "    pass\n",
    "\n",
    "def out_of_stock():\n",
    "    print(\"Out of stock\")\n",
    "    pass\n",
    "\n",
    "if count := fresh_fruit.get('lemon', 0):\n",
    "    make_lemonade(count)\n",
    "else:\n",
    "    out_of_stock()\n"
   ]
  },
  {
   "cell_type": "code",
   "execution_count": null,
   "metadata": {},
   "outputs": [],
   "source": []
  }
 ],
 "metadata": {
  "kernelspec": {
   "display_name": "Python 3",
   "language": "python",
   "name": "python3"
  },
  "language_info": {
   "codemirror_mode": {
    "name": "ipython",
    "version": 3
   },
   "file_extension": ".py",
   "mimetype": "text/x-python",
   "name": "python",
   "nbconvert_exporter": "python",
   "pygments_lexer": "ipython3",
   "version": "3.9.0"
  }
 },
 "nbformat": 4,
 "nbformat_minor": 4
}
