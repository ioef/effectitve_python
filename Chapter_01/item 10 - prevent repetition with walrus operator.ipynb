{
 "cells": [
  {
   "cell_type": "code",
   "execution_count": 4,
   "metadata": {},
   "outputs": [
    {
     "name": "stdout",
     "output_type": "stream",
     "text": [
      "Making juice\n"
     ]
    }
   ],
   "source": [
    "fresh_fruit = {\n",
    "'apple': 10,\n",
    "'banana': 8,\n",
    "'lemon': 5,\n",
    "}\n",
    "\n",
    "def make_lemonade(count):\n",
    "    print(\"Making juice\")\n",
    "    pass\n",
    "\n",
    "def out_of_stock():\n",
    "    print(\"Out of stock\")\n",
    "    pass\n",
    "\n",
    "count = fresh_fruit.get('lemon', 0)\n",
    "if count:\n",
    "    make_lemonade(count)\n",
    "else:\n",
    "    out_of_stock()\n",
    "\n"
   ]
  },
  {
   "cell_type": "code",
   "execution_count": 5,
   "metadata": {},
   "outputs": [
    {
     "name": "stdout",
     "output_type": "stream",
     "text": [
      "Making juice\n"
     ]
    }
   ],
   "source": [
    "fresh_fruit = {\n",
    "'apple': 10,\n",
    "'banana': 8,\n",
    "'lemon': 5,\n",
    "}\n",
    "\n",
    "def make_lemonade(count):\n",
    "    print(\"Making juice\")\n",
    "    pass\n",
    "\n",
    "def out_of_stock():\n",
    "    print(\"Out of stock\")\n",
    "    pass\n",
    "\n",
    "if count := fresh_fruit.get('lemon', 0):\n",
    "    make_lemonade(count)\n",
    "else:\n",
    "    out_of_stock()\n"
   ]
  },
  {
   "cell_type": "code",
   "execution_count": 4,
   "metadata": {},
   "outputs": [
    {
     "name": "stdout",
     "output_type": "stream",
     "text": [
      "Out of stock\n"
     ]
    }
   ],
   "source": [
    "fresh_fruit = {\n",
    "'apple': 10,\n",
    "'banana': 8,\n",
    "'lemon': 5,\n",
    "'mango': 0,\n",
    "}\n",
    "\n",
    "\n",
    "def make_smoothies(count):\n",
    "    return 10 / count\n",
    "\n",
    "def out_of_stock():\n",
    "    print(\"Out of stock\")\n",
    "    pass\n",
    "\n",
    "pieces = 0 \n",
    "if (count := fresh_fruit.get('mango', 0)) >= 2:\n",
    "    pieces = slice_bananas(count)\n",
    "    \n",
    "try:\n",
    "    smoothies = make_smoothies(pieces)\n",
    "except:\n",
    "    out_of_stock()"
   ]
  },
  {
   "cell_type": "code",
   "execution_count": 8,
   "metadata": {},
   "outputs": [
    {
     "name": "stdout",
     "output_type": "stream",
     "text": [
      "soda\n",
      "beer\n",
      "tequilla\n",
      "matte\n",
      "chunk\n"
     ]
    }
   ],
   "source": [
    "bottles = ['chunk', 'matte', 'tequilla', 'beer', 'soda']\n",
    "\n",
    "while len(bottles) > 0 and (fresh_fruit := bottles.pop()):\n",
    "        print(fresh_fruit)\n"
   ]
  },
  {
   "cell_type": "code",
   "execution_count": null,
   "metadata": {},
   "outputs": [],
   "source": []
  },
  {
   "cell_type": "code",
   "execution_count": null,
   "metadata": {},
   "outputs": [],
   "source": []
  }
 ],
 "metadata": {
  "kernelspec": {
   "display_name": "Python 3",
   "language": "python",
   "name": "python3"
  },
  "language_info": {
   "codemirror_mode": {
    "name": "ipython",
    "version": 3
   },
   "file_extension": ".py",
   "mimetype": "text/x-python",
   "name": "python",
   "nbconvert_exporter": "python",
   "pygments_lexer": "ipython3",
   "version": "3.9.0"
  }
 },
 "nbformat": 4,
 "nbformat_minor": 4
}
