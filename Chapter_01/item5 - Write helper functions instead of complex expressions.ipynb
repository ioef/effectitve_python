{
 "cells": [
  {
   "cell_type": "code",
   "execution_count": 1,
   "metadata": {},
   "outputs": [
    {
     "name": "stdout",
     "output_type": "stream",
     "text": [
      "{'red': ['5'], 'blue': ['0'], 'green': ['']}\n"
     ]
    }
   ],
   "source": [
    "from urllib.parse import parse_qs\n",
    "\n",
    "my_values = parse_qs('red=5&blue=0&green=', keep_blank_values=True)\n",
    "\n",
    "print(repr(my_values))\n"
   ]
  },
  {
   "cell_type": "code",
   "execution_count": 5,
   "metadata": {},
   "outputs": [
    {
     "name": "stdout",
     "output_type": "stream",
     "text": [
      "Red: '5'\n",
      "Gren: 0\n",
      "Opacity: 0\n"
     ]
    }
   ],
   "source": [
    "from urllib.parse import parse_qs\n",
    "\n",
    "my_values = parse_qs('red=5&blue=0&green=', keep_blank_values=True)\n",
    "\n",
    "\n",
    "red = my_values.get('red', [''])[0] or 0\n",
    "green = my_values.get('green', [''])[0] or 0\n",
    "opacity = my_values.get('opacity', [''])[0] or 0\n",
    "\n",
    "\n",
    "print(f'Red: {red!r}')\n",
    "print(f'Gren: {green!r}')\n",
    "print(f'Opacity: {opacity!r}')"
   ]
  },
  {
   "cell_type": "code",
   "execution_count": 10,
   "metadata": {},
   "outputs": [
    {
     "name": "stdout",
     "output_type": "stream",
     "text": [
      "Red: '5' Type: <class 'str'>\n",
      "Blue: 0 Type: <class 'int'>\n",
      "Green: 0 Type: <class 'int'>\n",
      "Opacity: 0 Type: <class 'int'>\n"
     ]
    }
   ],
   "source": [
    "from urllib.parse import parse_qs\n",
    "\n",
    "my_values = parse_qs('red=5&blue=0&green=', keep_blank_values=True)\n",
    "\n",
    "\n",
    "red = my_values.get('red', [''])[0] or 0\n",
    "blue = int(my_values.get('blue', [''])[0] or 0)\n",
    "\n",
    "green = my_values.get('green', [''])[0] or 0\n",
    "opacity = int(my_values.get('opacity', [''])[0] or 0)\n",
    "\n",
    "\n",
    "print(f'Red: {red!r} Type: {type(red)}')\n",
    "print(f'Blue: {blue!r} Type: {type(blue)}')\n",
    "print(f'Green: {green!r} Type: {type(green)}')\n",
    "print(f'Opacity: {opacity!r} Type: {type(opacity)}')"
   ]
  },
  {
   "cell_type": "code",
   "execution_count": 11,
   "metadata": {},
   "outputs": [
    {
     "name": "stdout",
     "output_type": "stream",
     "text": [
      "55\n"
     ]
    }
   ],
   "source": [
    "from urllib.parse import parse_qs\n",
    "\n",
    "my_values = parse_qs('red=55&blue=0&green=', keep_blank_values=True)\n",
    "\n",
    "red_str = my_values.get('red', [''])\n",
    "red = int(red_str[0]) if red_str[0] else 0\n",
    "print(red)"
   ]
  },
  {
   "cell_type": "code",
   "execution_count": 14,
   "metadata": {},
   "outputs": [
    {
     "name": "stdout",
     "output_type": "stream",
     "text": [
      "55\n"
     ]
    }
   ],
   "source": [
    "#if you need to reuse the logic repeatedly, the writing a helper function is the way to go\n",
    "\n",
    "from urllib.parse import parse_qs\n",
    "my_values = parse_qs('red=55&blue=0&green=', keep_blank_values=True)\n",
    "\n",
    "\n",
    "def get_first_int(values, key, default=0):\n",
    "    found = values.get(key, [''])\n",
    "\n",
    "    if found[0]:\n",
    "        return int(found[0])\n",
    "    return default\n",
    "\n",
    "print(get_first_int(my_values,'red'))"
   ]
  },
  {
   "cell_type": "code",
   "execution_count": null,
   "metadata": {},
   "outputs": [],
   "source": []
  }
 ],
 "metadata": {
  "kernelspec": {
   "display_name": "Python 3",
   "language": "python",
   "name": "python3"
  },
  "language_info": {
   "codemirror_mode": {
    "name": "ipython",
    "version": 3
   },
   "file_extension": ".py",
   "mimetype": "text/x-python",
   "name": "python",
   "nbconvert_exporter": "python",
   "pygments_lexer": "ipython3",
   "version": "3.9.0"
  }
 },
 "nbformat": 4,
 "nbformat_minor": 4
}
