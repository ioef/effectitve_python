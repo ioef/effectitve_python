{
 "cells": [
  {
   "cell_type": "code",
   "execution_count": 1,
   "metadata": {},
   "outputs": [
    {
     "name": "stdout",
     "output_type": "stream",
     "text": [
      "Middle two: ['d', 'e']\n",
      "All but ends: ['b', 'c', 'd', 'e', 'f', 'g']\n"
     ]
    }
   ],
   "source": [
    "a = ['a', 'b', 'c', 'd', 'e', 'f', 'g', 'h']\n",
    "\n",
    "print('Middle two:', a[3:5])\n",
    "print('All but ends:', a[1:7])\n"
   ]
  },
  {
   "cell_type": "code",
   "execution_count": 2,
   "metadata": {},
   "outputs": [],
   "source": [
    "#leave out the zero index to reduce visual noise\n",
    "a = ['a', 'b', 'c', 'd', 'e', 'f', 'g', 'h']\n",
    "\n",
    "assert a[0:5] == a[:5]"
   ]
  },
  {
   "cell_type": "code",
   "execution_count": 3,
   "metadata": {},
   "outputs": [],
   "source": [
    "#when slicing to the end of the list, leave out the final index because it is redundant \n",
    "assert a[5:] == a[5:len(a)]"
   ]
  },
  {
   "cell_type": "code",
   "execution_count": 13,
   "metadata": {
    "scrolled": false
   },
   "outputs": [
    {
     "name": "stdout",
     "output_type": "stream",
     "text": [
      "['a', 'b', 'c', 'd', 'e', 'f', 'g', 'h']\n",
      "['a', 'b', 'c', 'd', 'e']\n",
      "['a', 'b', 'c', 'd', 'e', 'f', 'g']\n",
      "['e', 'f', 'g', 'h']\n",
      "['f', 'g', 'h']\n",
      "['c', 'd', 'e']\n",
      "['c', 'd', 'e', 'f', 'g']\n",
      "['f', 'g']\n"
     ]
    }
   ],
   "source": [
    "a = ['a', 'b', 'c', 'd', 'e', 'f', 'g', 'h']\n",
    "\n",
    "print(a[:])\n",
    "\n",
    "print(a[:5])\n",
    "\n",
    "print(a[:-1])\n",
    "\n",
    "print(a[4:])\n",
    "\n",
    "print(a[-3:])\n",
    "\n",
    "print(a[2:5])\n",
    "\n",
    "print(a[2:-1])\n",
    "\n",
    "print(a[-3:-1])\n"
   ]
  },
  {
   "cell_type": "markdown",
   "metadata": {},
   "source": []
  },
  {
   "cell_type": "code",
   "execution_count": 24,
   "metadata": {},
   "outputs": [
    {
     "name": "stdout",
     "output_type": "stream",
     "text": [
      "[1, 2, 3, 4, 5, 6, 7, 8, 9, 10, 11, 12, 13, 14, 15, 16, 17, 18, 19, 20]\n",
      "[81, 82, 83, 84, 85, 86, 87, 88, 89, 90, 91, 92, 93, 94, 95, 96, 97, 98, 99, 100]\n"
     ]
    },
    {
     "ename": "IndexError",
     "evalue": "list index out of range",
     "output_type": "error",
     "traceback": [
      "\u001b[0;31m---------------------------------------------------------------------------\u001b[0m",
      "\u001b[0;31mIndexError\u001b[0m                                Traceback (most recent call last)",
      "\u001b[0;32m<ipython-input-24-2a41b355e698>\u001b[0m in \u001b[0;36m<module>\u001b[0;34m\u001b[0m\n\u001b[1;32m      8\u001b[0m \u001b[0mprint\u001b[0m\u001b[0;34m(\u001b[0m\u001b[0mlast__twenty_items\u001b[0m\u001b[0;34m)\u001b[0m\u001b[0;34m\u001b[0m\u001b[0;34m\u001b[0m\u001b[0m\n\u001b[1;32m      9\u001b[0m \u001b[0;34m\u001b[0m\u001b[0m\n\u001b[0;32m---> 10\u001b[0;31m \u001b[0mlist\u001b[0m\u001b[0;34m[\u001b[0m\u001b[0;36m100\u001b[0m\u001b[0;34m]\u001b[0m\u001b[0;34m\u001b[0m\u001b[0;34m\u001b[0m\u001b[0m\n\u001b[0m",
      "\u001b[0;31mIndexError\u001b[0m: list index out of range"
     ]
    }
   ],
   "source": [
    "list = [ x for x in range(1,101)]\n",
    "\n",
    "\n",
    "first_twenty_items = list[:20]\n",
    "last__twenty_items = list[-20:]\n",
    "\n",
    "print(first_twenty_items)\n",
    "print(last__twenty_items)\n",
    "\n",
    "list[100]"
   ]
  },
  {
   "cell_type": "code",
   "execution_count": 28,
   "metadata": {},
   "outputs": [],
   "source": [
    "list = [ x for x in range(1,101)]\n",
    "\n",
    "assert list[-0:] == list[:] == list[0:len(list)] == list[0:]"
   ]
  },
  {
   "cell_type": "code",
   "execution_count": 33,
   "metadata": {},
   "outputs": [
    {
     "name": "stdout",
     "output_type": "stream",
     "text": [
      "Before:     [[1, 3, 2], 'e', 'f', 'g', 'h']\n",
      "After:      ['aaaa', 99, 'f', 'g', 'h']\n",
      "No change: ['a', 'b', 'c', [1, 3, 2], 'e', 'f', 'g', 'h']\n"
     ]
    }
   ],
   "source": [
    "#the results of slicing create a whole new list. the original list is not affected\n",
    "a = ['a', 'b', 'c', [1,3,2], 'e', 'f', 'g', 'h']\n",
    "b = a[3:]\n",
    "\n",
    "print('Before:    ', b)\n",
    "b[1] = 99\n",
    "b[0] = 'aaaa'\n",
    "print('After:     ', b)\n",
    "print('No change:', a)\n",
    "\n"
   ]
  },
  {
   "cell_type": "code",
   "execution_count": 46,
   "metadata": {},
   "outputs": [
    {
     "name": "stdout",
     "output_type": "stream",
     "text": [
      "Before  ['a', 'b', 'c', 'd', 'e', 'f', 'g', 'h']\n",
      "['c']\n",
      "After  ['a', 'b', 47, 11, 'd', 'e', 'f', 'g', 'h']\n"
     ]
    }
   ],
   "source": [
    "#Items are injected expanding the list\n",
    "a = ['a', 'b', 'c', 'd', 'e', 'f', 'g', 'h']\n",
    "\n",
    "#b =[(i, val) for i, val in enumerate(a)]\n",
    "#print(b)\n",
    "\n",
    "print('Before ', a)\n",
    "print(a[2:3])\n",
    "a[2:3] = [47, 11]\n",
    "print('After ', a)\n",
    "\n",
    "b = a[:]\n",
    "assert b == a and b is not a\n"
   ]
  },
  {
   "cell_type": "code",
   "execution_count": 48,
   "metadata": {},
   "outputs": [
    {
     "name": "stdout",
     "output_type": "stream",
     "text": [
      "Before a ['a', 'b', 'c', 'd', 'e', 'f', 'g', 'h']\n",
      "Before b ['a', 'b', 'c', 'd', 'e', 'f', 'g', 'h']\n",
      "After a  [101, 102, 103]\n",
      "After b  [101, 102, 103]\n"
     ]
    }
   ],
   "source": [
    "#creating a copy with reference to the initial list, than allocating a new list\n",
    "\n",
    "a = ['a', 'b', 'c', 'd', 'e', 'f', 'g', 'h']\n",
    "\n",
    "b = a\n",
    "print('Before a', a )\n",
    "print('Before b', b)\n",
    "a[:] = [101, 102, 103]\n",
    "assert a is b \n",
    "print('After a ',  a)\n",
    "print('After b ',  b)\n"
   ]
  },
  {
   "cell_type": "code",
   "execution_count": null,
   "metadata": {},
   "outputs": [],
   "source": []
  }
 ],
 "metadata": {
  "kernelspec": {
   "display_name": "Python 3",
   "language": "python",
   "name": "python3"
  },
  "language_info": {
   "codemirror_mode": {
    "name": "ipython",
    "version": 3
   },
   "file_extension": ".py",
   "mimetype": "text/x-python",
   "name": "python",
   "nbconvert_exporter": "python",
   "pygments_lexer": "ipython3",
   "version": "3.9.0"
  }
 },
 "nbformat": 4,
 "nbformat_minor": 4
}
